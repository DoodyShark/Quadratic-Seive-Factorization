{
 "cells": [
  {
   "cell_type": "code",
   "execution_count": 160,
   "metadata": {
    "collapsed": false
   },
   "outputs": [
   ],
   "source": [
    "import math"
   ]
  },
  {
   "cell_type": "code",
   "execution_count": 150,
   "metadata": {
    "collapsed": false
   },
   "outputs": [
   ],
   "source": [
    "def Jacobi(m, n):\n",
    "    temp = 1\n",
    "    m -= int(m/n)*n\n",
    "    if n % 2 == 0:\n",
    "        print(str(n) + \" is not an odd integer.\")\n",
    "        return\n",
    "    if gcd(m, n) != 1:\n",
    "        print(str(m) + \" is not coprime to \" + str(n))\n",
    "        return\n",
    "    while m % 2 == 0:\n",
    "        temp *= pow(-1, (pow(n, 2) - 1)/8)\n",
    "        m /= 2\n",
    "    if m == 1:\n",
    "        return temp * 1\n",
    "    return temp * pow(-1, (m - 1)*(n - 1)/4) * Jacobi(n, m)"
   ]
  },
  {
   "cell_type": "code",
   "execution_count": 169,
   "metadata": {
    "collapsed": false
   },
   "outputs": [
   ],
   "source": [
    "def Quadratic_Seive_Relations(n, start_B, verbose):\n",
    "    if verbose:\n",
    "        print(\"Checking if \" + str(n) + \" is even or a power...\")\n",
    "    if (n % 2 == 0):\n",
    "        print(str(n) + \" is even.\")\n",
    "        return\n",
    "    if (isPower(n)):\n",
    "        print(str(n) + \" is a power.\")\n",
    "        return\n",
    "    if verbose:\n",
    "        print(str(n) + \" is neither even nor a power.\")\n",
    "    S = [i*i - n for i in range(ceil(sqrt(n)), ceil(sqrt(2*n)))]\n",
    "    B = start_B\n",
    "    enough_relations = False\n",
    "    BSmooth = []\n",
    "    BSmooth_Factorization = []\n",
    "    FB = []\n",
    "    count_primes = 0\n",
    "    B_last = B\n",
    "    if verbose:\n",
    "        print(\"Running through B's until one is suitable:\")\n",
    "    while not enough_relations and B < n:\n",
    "        print(B)\n",
    "        BSmooth = []\n",
    "        BSmooth_Factorization = []\n",
    "        if verbose:\n",
    "            print(\"Cleaning the factor base...\")\n",
    "        [FB, count_primes] = CleanFB(n, B)\n",
    "        if (len(S) < count_primes):\n",
    "            print (str(len(S)) + \" < \" + str(count_primes))\n",
    "            print(\"Insufficient x's in window given B (and B's adjustment)\")\n",
    "            return [[[] , 0 ], [], [], False]\n",
    "        for x in S:\n",
    "            factors = factor(x)\n",
    "            if all(item in FB for item in [i[0] for i in factors]):\n",
    "                BSmooth.append(x)\n",
    "                BSmooth_Factorization.append(factors)\n",
    "        if (len(BSmooth) > count_primes):\n",
    "            if verbose:\n",
    "                print(\"Found a sufficient B: \" + str(B))\n",
    "            enough_relations = True\n",
    "        B *= 2\n",
    "        B_last = B\n",
    "        if not enough_relations:\n",
    "            print(\"Didn't find enough relations\")\n",
    "    if verbose:\n",
    "        print (\"Chosen Factor Base (Length = \" + str(count_primes) + \"): \" + str(FB))\n",
    "        print (\"BSmooth candidates: \" + str(BSmooth))\n",
    "        for i in range(len(BSmooth)):\n",
    "            print(str(BSmooth[i]) + \" = \" + str(BSmooth_Factorization[i]))\n",
    "    return [[FB, count_primes], BSmooth, BSmooth_Factorization, True]"
   ]
  },
  {
   "cell_type": "code",
   "execution_count": 8,
   "metadata": {
    "collapsed": false
   },
   "outputs": [
   ],
   "source": [
    "def isPower(n):\n",
    "    if n == 0 or n == 1:\n",
    "        return True\n",
    "    if n < 4:\n",
    "        return False\n",
    "    for i in range(int(math.log(n,2)), 1, -1):\n",
    "        if pow(n,1/i).is_integer():\n",
    "            return True\n",
    "    return False"
   ]
  },
  {
   "cell_type": "code",
   "execution_count": 137,
   "metadata": {
    "collapsed": false
   },
   "outputs": [
   ],
   "source": [
    "def get_power_vectors(FB, countprimes, BSmooth_Factorization, verbose):\n",
    "    print(\"Power vectors:\")\n",
    "    factorizations = []\n",
    "    for k in range(len(BSmooth_Factorization)):\n",
    "        factorizations.append([i for i in BSmooth_Factorization[k]])\n",
    "    power_vectors = []\n",
    "    for factorization in factorizations:\n",
    "        for i in range(countprimes):\n",
    "            if factorization[i][0] != FB[i]:\n",
    "                factorization.insert(i, (FB[i], 0))\n",
    "            if i == len(factorization) - 1:\n",
    "                for j in range(i, countprimes):\n",
    "                    factorization.insert(j, (FB[j], 0))\n",
    "                break\n",
    "        power_vector = [i[1] for i in factorization]\n",
    "        power_vectors.append(power_vector)\n",
    "        if verbose:\n",
    "            print(power_vector)\n",
    "    return power_vectors"
   ]
  },
  {
   "cell_type": "code",
   "execution_count": 117,
   "metadata": {
    "collapsed": false
   },
   "outputs": [
   ],
   "source": [
    "def power_vectors_mod_2(power_vectors, verbose):\n",
    "    if verbose:\n",
    "        print(\"Power vectors after modding:\")\n",
    "    for i in range(len(power_vectors)):\n",
    "        for j in range(len(power_vectors[i])):\n",
    "            power_vectors[i][j] %= 2\n",
    "        if verbose:\n",
    "            print(power_vectors[i])\n",
    "    return power_vectors"
   ]
  },
  {
   "cell_type": "code",
   "execution_count": 9,
   "metadata": {
    "collapsed": false
   },
   "outputs": [
   ],
   "source": [
    "def CleanFB(n, B):\n",
    "    FB = [nth_prime(i) for i in range(1, prime_pi(B) + 1)]\n",
    "    for p in FB[1:len(FB)]:\n",
    "#         if Jacobi(n, p) != 1:\n",
    "        if power_mod(n, (p-1)/2, p) != 1:\n",
    "            FB.remove(p)\n",
    "    return [FB, len(FB)]"
   ]
  },
  {
   "cell_type": "code",
   "execution_count": 144,
   "metadata": {
    "collapsed": false
   },
   "outputs": [
   ],
   "source": [
    "def Quadratic_Seive_Factor(n, start_B, verbose):\n",
    "    [[FB, count_primes], BSmooth, BSmooth_Factorization, success] = Quadratic_Seive_Relations(n, start_B, verbose);\n",
    "    if not success:\n",
    "        return\n",
    "    print();\n",
    "    power_vectors = get_power_vectors(FB, count_primes, BSmooth_Factorization, verbose);\n",
    "    print();\n",
    "    mod_2 = power_vectors_mod_2(power_vectors, verbose);"
   ]
  },
  {
   "cell_type": "code",
   "execution_count": 170,
   "metadata": {
    "collapsed": false
   },
   "outputs": [
    {
     "name": "stdout",
     "output_type": "stream",
     "text": [
      "Checking if 9576890769 is even or a power...\n",
      "9576890769 is neither even nor a power.\n",
      "Running through B's until one is suitable:\n",
      "16\n",
      "Cleaning the factor base...\n"
     ]
    },
    {
     "name": "stdout",
     "output_type": "stream",
     "text": [
      "Didn't find enough relations\n",
      "32\n",
      "Cleaning the factor base...\n"
     ]
    },
    {
     "name": "stdout",
     "output_type": "stream",
     "text": [
      "Didn't find enough relations\n",
      "64\n",
      "Cleaning the factor base...\n"
     ]
    },
    {
     "name": "stdout",
     "output_type": "stream",
     "text": [
      "Found a sufficient B: 64\n",
      "Chosen Factor Base (Length = 9): [2, 5, 13, 19, 23, 31, 47, 53, 61]\n",
      "BSmooth candidates: [80275, 3407872, 18683080, 166181080, 502666840, 1577426227, 1640672800, 2534772040, 5820692800, 9276596095]\n",
      "80275 = 5^2 * 13^2 * 19\n",
      "3407872 = 2^18 * 13\n",
      "18683080 = 2^3 * 5 * 13 * 19 * 31 * 61\n",
      "166181080 = 2^3 * 5 * 13^3 * 31 * 61\n",
      "502666840 = 2^3 * 5 * 13^2 * 23 * 53 * 61\n",
      "1577426227 = 13^3 * 19 * 23 * 31 * 53\n",
      "1640672800 = 2^5 * 5^2 * 13 * 19^3 * 23\n",
      "2534772040 = 2^3 * 5 * 23 * 31^2 * 47 * 61\n",
      "5820692800 = 2^6 * 5^2 * 13 * 23^4\n",
      "9276596095 = 5 * 13 * 23 * 47^2 * 53^2\n",
      "\n",
      "Power vectors:\n",
      "[0, 2, 2, 0, 0, 0, 0, 0, 0, 1]\n",
      "[18, 0, 0, 0, 0, 0, 0, 0, 0, 1]\n",
      "[3, 1, 1, 1, 0, 1, 0, 0, 0, 1]\n",
      "[3, 1, 3, 0, 0, 1, 0, 0, 0, 1]\n",
      "[3, 1, 2, 0, 1, 0, 0, 1, 0, 1]\n",
      "[0, 0, 3, 1, 1, 1, 0, 0, 0, 1]\n",
      "[5, 2, 1, 3, 0, 0, 0, 0, 0, 1]\n",
      "[3, 1, 0, 0, 1, 2, 1, 0, 0, 1]\n",
      "[6, 2, 1, 0, 0, 0, 0, 0, 0, 4]\n",
      "[0, 1, 1, 0, 1, 0, 2, 0, 0, 2]\n",
      "\n",
      "Power vectors after modding:\n",
      "[0, 0, 0, 0, 0, 0, 0, 0, 0, 1]\n",
      "[0, 0, 0, 0, 0, 0, 0, 0, 0, 1]\n",
      "[1, 1, 1, 1, 0, 1, 0, 0, 0, 1]\n",
      "[1, 1, 1, 0, 0, 1, 0, 0, 0, 1]\n",
      "[1, 1, 0, 0, 1, 0, 0, 1, 0, 1]\n",
      "[0, 0, 1, 1, 1, 1, 0, 0, 0, 1]\n",
      "[1, 0, 1, 1, 0, 0, 0, 0, 0, 1]\n",
      "[1, 1, 0, 0, 1, 0, 1, 0, 0, 1]\n",
      "[0, 0, 1, 0, 0, 0, 0, 0, 0, 0]\n",
      "[0, 1, 1, 0, 1, 0, 0, 0, 0, 0]\n"
     ]
    }
   ],
   "source": [
    "Quadratic_Seive_Factor(9576890769, 16, True)"
   ]
  },
  {
   "cell_type": "code",
   "execution_count": 173,
   "metadata": {
    "collapsed": false
   },
   "outputs": [
    {
     "name": "stdout",
     "output_type": "stream",
     "text": [
      "Checking if 4093082897 is even or a power...\n",
      "4093082897 is neither even nor a power.\n",
      "Running through B's until one is suitable:\n",
      "10\n",
      "Cleaning the factor base...\n"
     ]
    },
    {
     "name": "stdout",
     "output_type": "stream",
     "text": [
      "Didn't find enough relations\n",
      "20\n",
      "Cleaning the factor base...\n"
     ]
    },
    {
     "name": "stdout",
     "output_type": "stream",
     "text": [
      "Didn't find enough relations\n",
      "40\n",
      "Cleaning the factor base...\n"
     ]
    },
    {
     "name": "stdout",
     "output_type": "stream",
     "text": [
      "Didn't find enough relations\n",
      "80\n",
      "Cleaning the factor base...\n"
     ]
    },
    {
     "name": "stdout",
     "output_type": "stream",
     "text": [
      "Found a sufficient B: 80\n",
      "Chosen Factor Base (Length = 9): [2, 7, 29, 31, 37, 43, 47, 53, 79]\n",
      "BSmooth candidates: [8551039, 25091032, 115942232, 141152144, 168787192, 536222624, 803137832, 1396097024, 1749837824, 1907433472]\n",
      "8551039 = 7^2 * 47^2 * 79\n",
      "25091032 = 2^3 * 29 * 37^2 * 79\n",
      "115942232 = 2^3 * 7^3 * 29 * 31 * 47\n",
      "141152144 = 2^4 * 7^2 * 43 * 53 * 79\n",
      "168787192 = 2^3 * 7 * 29 * 37 * 53^2\n",
      "536222624 = 2^5 * 7 * 31^2 * 47 * 53\n",
      "803137832 = 2^3 * 7^2 * 29 * 31 * 43 * 53\n",
      "1396097024 = 2^14 * 7^2 * 37 * 47\n",
      "1749837824 = 2^11 * 7^3 * 47 * 53\n",
      "1907433472 = 2^13 * 7 * 29 * 31 * 37\n",
      "\n",
      "Power vectors:\n",
      "[0, 2, 0, 0, 0, 0, 2, 0, 0, 1]\n",
      "[3, 0, 1, 0, 2, 0, 0, 0, 0, 1]\n",
      "[3, 3, 1, 1, 0, 0, 0, 0, 0, 1]\n",
      "[4, 2, 0, 0, 0, 1, 0, 1, 0, 1]\n",
      "[3, 1, 1, 0, 1, 0, 0, 0, 0, 2]\n",
      "[5, 1, 0, 2, 0, 0, 1, 0, 0, 1]\n",
      "[3, 2, 1, 1, 0, 1, 0, 0, 0, 1]\n",
      "[14, 2, 0, 0, 1, 0, 0, 0, 0, 1]\n",
      "[11, 3, 0, 0, 0, 0, 1, 0, 0, 1]\n",
      "[13, 1, 1, 1, 0, 0, 0, 0, 0, 1]\n",
      "\n",
      "Power vectors after modding:\n",
      "[0, 0, 0, 0, 0, 0, 0, 0, 0, 1]\n",
      "[1, 0, 1, 0, 0, 0, 0, 0, 0, 1]\n",
      "[1, 1, 1, 1, 0, 0, 0, 0, 0, 1]\n",
      "[0, 0, 0, 0, 0, 1, 0, 1, 0, 1]\n",
      "[1, 1, 1, 0, 1, 0, 0, 0, 0, 0]\n",
      "[1, 1, 0, 0, 0, 0, 1, 0, 0, 1]\n",
      "[1, 0, 1, 1, 0, 1, 0, 0, 0, 1]\n",
      "[0, 0, 0, 0, 1, 0, 0, 0, 0, 1]\n",
      "[1, 1, 0, 0, 0, 0, 1, 0, 0, 1]\n",
      "[1, 1, 1, 1, 0, 0, 0, 0, 0, 1]\n"
     ]
    }
   ],
   "source": [
    "Quadratic_Seive_Factor(4093082897, 10, True)"
   ]
  },
  {
   "cell_type": "code",
   "execution_count": 168,
   "metadata": {
    "collapsed": false
   },
   "outputs": [
   ],
   "source": [
    "# So I found this linear algebra over fields package called gap \n",
    "# (or at least that's what I got from the desription and a rundown \n",
    "# through the functions), but didn't have the time to implement it\n",
    "# here. I plan on trying it out later maybe this week or the next\n",
    "# depending on my workload (which isn't looking light) and I'll\n",
    "# let you know how that goes inshaallah"
   ]
  },
  {
   "cell_type": "code",
   "execution_count": 0,
   "metadata": {
    "collapsed": false
   },
   "outputs": [
   ],
   "source": [
   ]
  },
  {
   "cell_type": "code",
   "execution_count": 0,
   "metadata": {
    "collapsed": false
   },
   "outputs": [
   ],
   "source": [
   ]
  }
 ],
 "metadata": {
  "kernelspec": {
   "display_name": "SageMath 9.7",
   "language": "sagemath",
   "metadata": {
    "cocalc": {
     "description": "Open-source mathematical software system",
     "priority": 10,
     "url": "https://www.sagemath.org/"
    }
   },
   "name": "sage-9.7",
   "resource_dir": "/ext/jupyter/kernels/sage-9.7"
  },
  "language_info": {
   "codemirror_mode": {
    "name": "ipython",
    "version": 3
   },
   "file_extension": ".py",
   "mimetype": "text/x-python",
   "name": "python",
   "nbconvert_exporter": "python",
   "pygments_lexer": "ipython3",
   "version": "3.10.5"
  }
 },
 "nbformat": 4,
 "nbformat_minor": 4
}